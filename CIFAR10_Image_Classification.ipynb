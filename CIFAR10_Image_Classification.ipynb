{
  "nbformat": 4,
  "nbformat_minor": 0,
  "metadata": {
    "colab": {
      "provenance": []
    },
    "kernelspec": {
      "name": "python3",
      "display_name": "Python 3"
    },
    "language_info": {
      "name": "python"
    },
    "accelerator": "GPU",
    "gpuClass": "standard"
  },
  "cells": [
    {
      "cell_type": "code",
      "execution_count": null,
      "metadata": {
        "id": "eNFJDk1t5naj"
      },
      "outputs": [],
      "source": [
        "import tensorflow as tf\n",
        "import pandas as pd\n",
        "import numpy as np\n",
        "import matplotlib.pyplot as plt\n"
      ]
    },
    {
      "cell_type": "markdown",
      "source": [
        "* Datasetimizi (cifar10 verisetini) yüklüyoruz: (Yükleme işlemi için Internet bağlantınızın olması gerekiyor). Eğer bağlantınız yoksa veri setini Internetten indirip de yükleyebilirsiniz.."
      ],
      "metadata": {
        "id": "AcRzPYBt6D2T"
      }
    },
    {
      "cell_type": "code",
      "source": [
        "(X_train,y_train),(X_test, y_test)= tf.keras.datasets.cifar10.load_data()"
      ],
      "metadata": {
        "id": "N9JokzNS6D4z"
      },
      "execution_count": null,
      "outputs": []
    },
    {
      "cell_type": "code",
      "source": [
        "print(f\"X_train shape:{X_train.shape}\")\n",
        "print(f\"y_train shape:{y_train.shape}\")\n",
        "print(f\"X_test shape:{X_test.shape}\")\n",
        "print(f\"y_test shape:{y_test.shape}\")"
      ],
      "metadata": {
        "colab": {
          "base_uri": "https://localhost:8080/"
        },
        "id": "gpW_1J806D7X",
        "outputId": "3c25c977-d7a7-4481-89e6-195d880951b5"
      },
      "execution_count": null,
      "outputs": [
        {
          "output_type": "stream",
          "name": "stdout",
          "text": [
            "X_train shape:(50000, 32, 32, 3)\n",
            "y_train shape:(50000, 1)\n",
            "X_test shape:(10000, 32, 32, 3)\n",
            "y_test shape:(10000, 1)\n"
          ]
        }
      ]
    },
    {
      "cell_type": "code",
      "source": [
        "#Verilerimize bir bakalim\n",
        "plt.imshow(X_test[10])\n"
      ],
      "metadata": {
        "colab": {
          "base_uri": "https://localhost:8080/",
          "height": 283
        },
        "id": "g7F46A506D93",
        "outputId": "4163960d-fdb6-4969-c329-b11c7c967b89"
      },
      "execution_count": null,
      "outputs": [
        {
          "output_type": "execute_result",
          "data": {
            "text/plain": [
              "<matplotlib.image.AxesImage at 0x7f9942254f50>"
            ]
          },
          "metadata": {},
          "execution_count": 84
        },
        {
          "output_type": "display_data",
          "data": {
            "text/plain": [
              "<Figure size 432x288 with 1 Axes>"
            ],
            "image/png": "[encoded data removed]"
          },
          "metadata": {
            "needs_background": "light"
          }
        }
      ]
    },
    {
      "cell_type": "code",
      "source": [
        "plt.imshow(X_test[1])"
      ],
      "metadata": {
        "colab": {
          "base_uri": "https://localhost:8080/",
          "height": 283
        },
        "id": "BXH131J-6EAZ",
        "outputId": "c2000426-98d2-4c22-93ca-c1118a47a679"
      },
      "execution_count": null,
      "outputs": [
        {
          "output_type": "execute_result",
          "data": {
            "text/plain": [
              "<matplotlib.image.AxesImage at 0x7f9942243f10>"
            ]
          },
          "metadata": {},
          "execution_count": 85
        },
        {
          "output_type": "display_data",
          "data": {
            "text/plain": [
              "<Figure size 432x288 with 1 Axes>"
            ],
            "image/png": "[encoded data removed]"
          },
          "metadata": {
            "needs_background": "light"
          }
        }
      ]
    },
    {
      "cell_type": "markdown",
      "source": [
        "# normalization"
      ],
      "metadata": {
        "id": "xnkcPolc-W1K"
      }
    },
    {
      "cell_type": "code",
      "source": [
        "X_train =X_train/255\n",
        "X_test =X_test/255"
      ],
      "metadata": {
        "id": "wO09sVFD-W35"
      },
      "execution_count": null,
      "outputs": []
    },
    {
      "cell_type": "markdown",
      "source": [
        "#CNN "
      ],
      "metadata": {
        "id": "zdZgfiSp-W6k"
      }
    },
    {
      "cell_type": "code",
      "source": [
        "model =tf.keras.Sequential([\n",
        "    tf.keras.layers.Conv2D(filters =64, kernel_size=(3,3), activation=\"relu\",input_shape =(32,32,3)),\n",
        "    tf.keras.layers.MaxPool2D((2,2)),\n",
        "\n",
        "    tf.keras.layers.Conv2D(filters =32, kernel_size=(3,3), activation=\"relu\"),\n",
        "    tf.keras.layers.MaxPool2D((2,2)),\n",
        "\n",
        "    tf.keras.layers.Flatten(),\n",
        "    tf.keras.layers.Dense(64,activation=\"relu\"),\n",
        "    tf.keras.layers.Dense(10,activation=\"softmax\")\n",
        "])"
      ],
      "metadata": {
        "id": "v2bSupvg-W9V"
      },
      "execution_count": null,
      "outputs": []
    },
    {
      "cell_type": "code",
      "source": [
        "model.compile(\n",
        "    optimizer=\"adam\",\n",
        "    loss =tf.keras.losses.sparse_categorical_crossentropy,\n",
        "    metrics=[\"accuracy\"]\n",
        ")"
      ],
      "metadata": {
        "id": "AnchQoB7-l7K"
      },
      "execution_count": null,
      "outputs": []
    },
    {
      "cell_type": "code",
      "source": [
        "history=model.fit(X_train,\n",
        "                  y_train,\n",
        "                  epochs=5)"
      ],
      "metadata": {
        "colab": {
          "base_uri": "https://localhost:8080/"
        },
        "id": "7Ejcoa-7-l9r",
        "outputId": "d6109fe9-300f-430a-c77f-0278da101bab"
      },
      "execution_count": null,
      "outputs": [
        {
          "output_type": "stream",
          "name": "stdout",
          "text": [
            "Epoch 1/5\n",
            "1563/1563 [==============================] - 83s 53ms/step - loss: 1.5076 - accuracy: 0.4585\n",
            "Epoch 2/5\n",
            "1563/1563 [==============================] - 76s 49ms/step - loss: 1.1710 - accuracy: 0.5895\n",
            "Epoch 3/5\n",
            "1563/1563 [==============================] - 75s 48ms/step - loss: 1.0461 - accuracy: 0.6367\n",
            "Epoch 4/5\n",
            "1563/1563 [==============================] - 74s 47ms/step - loss: 0.9683 - accuracy: 0.6604\n",
            "Epoch 5/5\n",
            "1563/1563 [==============================] - 73s 47ms/step - loss: 0.9102 - accuracy: 0.6827\n"
          ]
        }
      ]
    },
    {
      "cell_type": "code",
      "source": [
        "model.evaluate(X_test,y_test)"
      ],
      "metadata": {
        "colab": {
          "base_uri": "https://localhost:8080/"
        },
        "id": "_4Kw2kew-mAg",
        "outputId": "eda3aa5b-ce46-4bd0-eee3-5235aaba3fd7"
      },
      "execution_count": null,
      "outputs": [
        {
          "output_type": "stream",
          "name": "stdout",
          "text": [
            "313/313 [==============================] - 4s 12ms/step - loss: 1.0025 - accuracy: 0.6549\n"
          ]
        },
        {
          "output_type": "execute_result",
          "data": {
            "text/plain": [
              "[1.0024889707565308, 0.6549000144004822]"
            ]
          },
          "metadata": {},
          "execution_count": 92
        }
      ]
    },
    {
      "cell_type": "code",
      "source": [],
      "metadata": {
        "id": "OOE2TZaM-mC-"
      },
      "execution_count": null,
      "outputs": []
    },
    {
      "cell_type": "code",
      "source": [],
      "metadata": {
        "id": "uhKojyNv-mFV"
      },
      "execution_count": null,
      "outputs": []
    },
    {
      "cell_type": "code",
      "source": [],
      "metadata": {
        "id": "Et2XoJsO-XAg"
      },
      "execution_count": null,
      "outputs": []
    }
  ]
}