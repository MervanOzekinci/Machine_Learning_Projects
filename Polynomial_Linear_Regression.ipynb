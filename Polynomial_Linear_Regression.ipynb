{
  "nbformat": 4,
  "nbformat_minor": 0,
  "metadata": {
    "colab": {
      "provenance": []
    },
    "kernelspec": {
      "name": "python3",
      "display_name": "Python 3"
    },
    "language_info": {
      "name": "python"
    },
    "accelerator": "GPU"
  },
  "cells": [
    {
      "cell_type": "markdown",
      "source": [
        "#Polynomial Linear Regression Genel Förmülü:\n",
        "y=a+b1x+b2x^2+b3x^3+b4x^4...+bnx^n"
      ],
      "metadata": {
        "id": "IfZIzszQ8BHd"
      }
    },
    {
      "cell_type": "code",
      "execution_count": 1,
      "metadata": {
        "id": "VRvwq9Oz6yxQ"
      },
      "outputs": [],
      "source": [
        "import pandas as pd\n",
        "import matplotlib.pyplot as plt\n",
        "from sklearn.linear_model import LinearRegression\n",
        "from sklearn.preprocessing import PolynomialFeatures\n",
        "\n",
        "\n",
        "#Veri setimizi pandas yardimiyla alip dataframe nesnemiz olan\n",
        "# df'in icine aktariyoruz....\n",
        "df=pd.read_csv('/content/polynomial.csv',sep=';')\n",
        "\n",
        "\n",
        "\n",
        "\n",
        "\n",
        " "
      ]
    },
    {
      "cell_type": "code",
      "source": [
        "df"
      ],
      "metadata": {
        "id": "h_96DLWX8bsq",
        "colab": {
          "base_uri": "https://localhost:8080/",
          "height": 363
        },
        "outputId": "42147b7c-e130-42b9-d386-a9eff6d6e1d9"
      },
      "execution_count": 2,
      "outputs": [
        {
          "output_type": "execute_result",
          "data": {
            "text/plain": [
              "   deneyim    maas\n",
              "0        1    4500\n",
              "1        2    5000\n",
              "2        3    6000\n",
              "3        4    8000\n",
              "4        5   11000\n",
              "5        6   15000\n",
              "6        7   20000\n",
              "7        8   30000\n",
              "8        9   50000\n",
              "9       10  100000"
            ],
            "text/html": [
              "\n",
              "  <div id=\"df-ff30d3f5-be9a-4059-ae8f-ef9c57074590\">\n",
              "    <div class=\"colab-df-container\">\n",
              "      <div>\n",
              "<style scoped>\n",
              "    .dataframe tbody tr th:only-of-type {\n",
              "        vertical-align: middle;\n",
              "    }\n",
              "\n",
              "    .dataframe tbody tr th {\n",
              "        vertical-align: top;\n",
              "    }\n",
              "\n",
              "    .dataframe thead th {\n",
              "        text-align: right;\n",
              "    }\n",
              "</style>\n",
              "<table border=\"1\" class=\"dataframe\">\n",
              "  <thead>\n",
              "    <tr style=\"text-align: right;\">\n",
              "      <th></th>\n",
              "      <th>deneyim</th>\n",
              "      <th>maas</th>\n",
              "    </tr>\n",
              "  </thead>\n",
              "  <tbody>\n",
              "    <tr>\n",
              "      <th>0</th>\n",
              "      <td>1</td>\n",
              "      <td>4500</td>\n",
              "    </tr>\n",
              "    <tr>\n",
              "      <th>1</th>\n",
              "      <td>2</td>\n",
              "      <td>5000</td>\n",
              "    </tr>\n",
              "    <tr>\n",
              "      <th>2</th>\n",
              "      <td>3</td>\n",
              "      <td>6000</td>\n",
              "    </tr>\n",
              "    <tr>\n",
              "      <th>3</th>\n",
              "      <td>4</td>\n",
              "      <td>8000</td>\n",
              "    </tr>\n",
              "    <tr>\n",
              "      <th>4</th>\n",
              "      <td>5</td>\n",
              "      <td>11000</td>\n",
              "    </tr>\n",
              "    <tr>\n",
              "      <th>5</th>\n",
              "      <td>6</td>\n",
              "      <td>15000</td>\n",
              "    </tr>\n",
              "    <tr>\n",
              "      <th>6</th>\n",
              "      <td>7</td>\n",
              "      <td>20000</td>\n",
              "    </tr>\n",
              "    <tr>\n",
              "      <th>7</th>\n",
              "      <td>8</td>\n",
              "      <td>30000</td>\n",
              "    </tr>\n",
              "    <tr>\n",
              "      <th>8</th>\n",
              "      <td>9</td>\n",
              "      <td>50000</td>\n",
              "    </tr>\n",
              "    <tr>\n",
              "      <th>9</th>\n",
              "      <td>10</td>\n",
              "      <td>100000</td>\n",
              "    </tr>\n",
              "  </tbody>\n",
              "</table>\n",
              "</div>\n",
              "      <button class=\"colab-df-convert\" onclick=\"convertToInteractive('df-ff30d3f5-be9a-4059-ae8f-ef9c57074590')\"\n",
              "              title=\"Convert this dataframe to an interactive table.\"\n",
              "              style=\"display:none;\">\n",
              "        \n",
              "  <svg xmlns=\"http://www.w3.org/2000/svg\" height=\"24px\"viewBox=\"0 0 24 24\"\n",
              "       width=\"24px\">\n",
              "    <path d=\"M0 0h24v24H0V0z\" fill=\"none\"/>\n",
              "    <path d=\"M18.56 5.44l.94 2.06.94-2.06 2.06-.94-2.06-.94-.94-2.06-.94 2.06-2.06.94zm-11 1L8.5 8.5l.94-2.06 2.06-.94-2.06-.94L8.5 2.5l-.94 2.06-2.06.94zm10 10l.94 2.06.94-2.06 2.06-.94-2.06-.94-.94-2.06-.94 2.06-2.06.94z\"/><path d=\"M17.41 7.96l-1.37-1.37c-.4-.4-.92-.59-1.43-.59-.52 0-1.04.2-1.43.59L10.3 9.45l-7.72 7.72c-.78.78-.78 2.05 0 2.83L4 21.41c.39.39.9.59 1.41.59.51 0 1.02-.2 1.41-.59l7.78-7.78 2.81-2.81c.8-.78.8-2.07 0-2.86zM5.41 20L4 18.59l7.72-7.72 1.47 1.35L5.41 20z\"/>\n",
              "  </svg>\n",
              "      </button>\n",
              "      \n",
              "  <style>\n",
              "    .colab-df-container {\n",
              "      display:flex;\n",
              "      flex-wrap:wrap;\n",
              "      gap: 12px;\n",
              "    }\n",
              "\n",
              "    .colab-df-convert {\n",
              "      background-color: #E8F0FE;\n",
              "      border: none;\n",
              "      border-radius: 50%;\n",
              "      cursor: pointer;\n",
              "      display: none;\n",
              "      fill: #1967D2;\n",
              "      height: 32px;\n",
              "      padding: 0 0 0 0;\n",
              "      width: 32px;\n",
              "    }\n",
              "\n",
              "    .colab-df-convert:hover {\n",
              "      background-color: #E2EBFA;\n",
              "      box-shadow: 0px 1px 2px rgba(60, 64, 67, 0.3), 0px 1px 3px 1px rgba(60, 64, 67, 0.15);\n",
              "      fill: #174EA6;\n",
              "    }\n",
              "\n",
              "    [theme=dark] .colab-df-convert {\n",
              "      background-color: #3B4455;\n",
              "      fill: #D2E3FC;\n",
              "    }\n",
              "\n",
              "    [theme=dark] .colab-df-convert:hover {\n",
              "      background-color: #434B5C;\n",
              "      box-shadow: 0px 1px 3px 1px rgba(0, 0, 0, 0.15);\n",
              "      filter: drop-shadow(0px 1px 2px rgba(0, 0, 0, 0.3));\n",
              "      fill: #FFFFFF;\n",
              "    }\n",
              "  </style>\n",
              "\n",
              "      <script>\n",
              "        const buttonEl =\n",
              "          document.querySelector('#df-ff30d3f5-be9a-4059-ae8f-ef9c57074590 button.colab-df-convert');\n",
              "        buttonEl.style.display =\n",
              "          google.colab.kernel.accessAllowed ? 'block' : 'none';\n",
              "\n",
              "        async function convertToInteractive(key) {\n",
              "          const element = document.querySelector('#df-ff30d3f5-be9a-4059-ae8f-ef9c57074590');\n",
              "          const dataTable =\n",
              "            await google.colab.kernel.invokeFunction('convertToInteractive',\n",
              "                                                     [key], {});\n",
              "          if (!dataTable) return;\n",
              "\n",
              "          const docLinkHtml = 'Like what you see? Visit the ' +\n",
              "            '<a target=\"_blank\" href=https://colab.research.google.com/notebooks/data_table.ipynb>data table notebook</a>'\n",
              "            + ' to learn more about interactive tables.';\n",
              "          element.innerHTML = '';\n",
              "          dataTable['output_type'] = 'display_data';\n",
              "          await google.colab.output.renderOutput(dataTable, element);\n",
              "          const docLink = document.createElement('div');\n",
              "          docLink.innerHTML = docLinkHtml;\n",
              "          element.appendChild(docLink);\n",
              "        }\n",
              "      </script>\n",
              "    </div>\n",
              "  </div>\n",
              "  "
            ]
          },
          "metadata": {},
          "execution_count": 2
        }
      ]
    },
    {
      "cell_type": "code",
      "source": [
        "#Veri setimize bir bakalim\n",
        "plt.scatter(df['deneyim'],df['maas'])\n",
        "plt.xlabel('Deneyim(yil)')\n",
        "plt.ylabel('Maas')\n",
        "plt.savefig('1.png',dpi=300)\n",
        "plt.show()"
      ],
      "metadata": {
        "id": "8XNzH21r8b0i",
        "colab": {
          "base_uri": "https://localhost:8080/",
          "height": 279
        },
        "outputId": "054ddbec-13e2-4fec-a1af-2a7d985f4624"
      },
      "execution_count": 3,
      "outputs": [
        {
          "output_type": "display_data",
          "data": {
            "text/plain": [
              "<Figure size 432x288 with 1 Axes>"
            ],
            "image/png": "[encoded data removed]"
          },
          "metadata": {
            "needs_background": "light"
          }
        }
      ]
    },
    {
      "cell_type": "code",
      "source": [
        "#Görüldügü gibi dogrusal bir yapida dagilmiyor veriler\n",
        "#Eger biz bu veri setine linear regression uygularsak hic uygun olmayan bir tahmin cizgisi görürüz\n",
        "\n",
        "reg=LinearRegression()\n",
        "reg.fit(df[['deneyim']],df['maas'])\n",
        "\n",
        "plt.xlabel('Deneyim(yil)')\n",
        "plt.ylabel('Maas')\n",
        "\n",
        "plt.scatter(df['deneyim'],df['maas'])\n",
        "\n",
        "x_ekseni=df['deneyim']\n",
        "y_ekseni=reg.predict(df[['deneyim']])\n",
        "plt.plot(x_ekseni,y_ekseni,color='green',label='linear regression')\n",
        "plt.legend()\n",
        "plt.show()"
      ],
      "metadata": {
        "id": "7gXl3bTD8b4A",
        "colab": {
          "base_uri": "https://localhost:8080/",
          "height": 279
        },
        "outputId": "e8c7fe6f-65bd-429a-abfc-6fd75ce802b6"
      },
      "execution_count": 4,
      "outputs": [
        {
          "output_type": "display_data",
          "data": {
            "text/plain": [
              "<Figure size 432x288 with 1 Axes>"
            ],
            "image/png": "[encoded data removed]"
          },
          "metadata": {
            "needs_background": "light"
          }
        }
      ]
    },
    {
      "cell_type": "markdown",
      "source": [
        "Tahmin cok kötü oldugu icin bu veri seti icin linear regression uygulamak dogru degildir. Unutulmamali ki\n",
        "veri setine göre model secilmeli. Öncelikle veri setini cok iyi hakim olunmali ve bilinmeli!!!"
      ],
      "metadata": {
        "id": "nCsQWZJ58b6_"
      }
    },
    {
      "cell_type": "markdown",
      "source": [
        "#Bu Veri seti icin regression cesitlerinden polynomial regression uygulanmasi gerektgine karar verdik.\n",
        "#Simdi bunun nasil uygulandigina bakalim:\n",
        "x degerimizi polinom yukaridaki fonksiyonuna uyacak sekilde uyarlanmasini sagliyoruz.\n",
        "Yani=>1,x,x^2(n=2)seklinde"
      ],
      "metadata": {
        "id": "SaSodJZr8b97"
      }
    },
    {
      "cell_type": "code",
      "source": [
        "#bir adet polynomial regression nesnesi olsuturmasi icin PolnomialFeatures fonskyion \n",
        "#cagiriyoru.\n",
        "#Bu fonksyionu cagirirken polinomun derecesini(n) belirtiyoruz\n",
        "\n",
        "polynomial_regression=PolynomialFeatures(degree=6)\n",
        "\n",
        "#burada degree yani N'i degistirip dogru sekilde veriye uygun cizim yapilmis mi diye kontrol edilmeli\n",
        "#ancak böyle data setine uygun olup olmadigini görebiliriz.N=2 de kötü N=6 da cok iyi sonuc verdi\n",
        "\n",
        "x_polynomial=polynomial_regression.fit_transform(df[['deneyim']])"
      ],
      "metadata": {
        "id": "izbF6GHS8cBD"
      },
      "execution_count": 5,
      "outputs": []
    },
    {
      "cell_type": "code",
      "source": [
        "#regression model nesnemizi olan reg nesnemizi olusturup bunun fit metodunu cagirarak\n",
        "#x_polynomial ve y eksenlerini fit ediyoruz\n",
        "#yani regresyon modelimizi mevcut gercek verilerle egitiyoruz\n",
        "\n",
        "reg=LinearRegression()\n",
        "reg.fit(x_polynomial,df['maas'])"
      ],
      "metadata": {
        "id": "n9Zq953D8cD_",
        "colab": {
          "base_uri": "https://localhost:8080/"
        },
        "outputId": "01fb48a9-7589-45e1-9e23-ad0b0c60fa05"
      },
      "execution_count": 6,
      "outputs": [
        {
          "output_type": "execute_result",
          "data": {
            "text/plain": [
              "LinearRegression()"
            ]
          },
          "metadata": {},
          "execution_count": 6
        }
      ]
    },
    {
      "cell_type": "code",
      "source": [
        "#Artik modelimiz hazir ve egitilmis, simdi eldeki verilere göre modelimiz nasil bir \n",
        "#sonuc grafigi olusturuyor onu görelim:\n",
        "\n",
        "y_head=reg.predict(x_polynomial)\n",
        "plt.plot(df['deneyim'],y_head,color='red',label='polynomial regression')\n",
        "plt.legend()\n",
        "\n",
        "#veri setimizi de noktalar olarak catter edelim de görelim bakalim uymus mu polynomial regression\n",
        "plt.scatter(df['deneyim'],df['maas'])\n",
        "plt.show()"
      ],
      "metadata": {
        "id": "3rFXWsDQA8d0",
        "colab": {
          "base_uri": "https://localhost:8080/",
          "height": 265
        },
        "outputId": "7c1a8919-8724-40c4-cfa0-29bf066763f9"
      },
      "execution_count": 7,
      "outputs": [
        {
          "output_type": "display_data",
          "data": {
            "text/plain": [
              "<Figure size 432x288 with 1 Axes>"
            ],
            "image/png": "[encoded data removed]"
          },
          "metadata": {
            "needs_background": "light"
          }
        }
      ]
    },
    {
      "cell_type": "code",
      "source": [
        "#Deneyimi 4.5 yil olan biri icin ne kadar maas vermeliyiz bilmiyoruz. bunu hemen hesaplatalim :)\n",
        "x_polynomial1=polynomial_regression.fit_transform([[4.5]])\n",
        "reg.predict(x_polynomial1)\n",
        "#predict()egitilmis modele göre yeni verilen verinin tahmin sonucunu getirir."
      ],
      "metadata": {
        "id": "mY4KBIHpA8g0",
        "colab": {
          "base_uri": "https://localhost:8080/"
        },
        "outputId": "66e2264d-794d-4cab-95d4-c541216e217b"
      },
      "execution_count": 8,
      "outputs": [
        {
          "output_type": "execute_result",
          "data": {
            "text/plain": [
              "array([9288.12662784])"
            ]
          },
          "metadata": {},
          "execution_count": 8
        }
      ]
    },
    {
      "cell_type": "code",
      "source": [],
      "metadata": {
        "id": "528bj5QDA8j3"
      },
      "execution_count": 8,
      "outputs": []
    },
    {
      "cell_type": "code",
      "source": [],
      "metadata": {
        "id": "unkXd65_A8mg"
      },
      "execution_count": 8,
      "outputs": []
    },
    {
      "cell_type": "code",
      "source": [],
      "metadata": {
        "id": "V6aYJZuLA8pM"
      },
      "execution_count": 8,
      "outputs": []
    },
    {
      "cell_type": "code",
      "source": [],
      "metadata": {
        "id": "muW8uwarA8sX"
      },
      "execution_count": 8,
      "outputs": []
    },
    {
      "cell_type": "code",
      "source": [],
      "metadata": {
        "id": "yKQrPJqzA8vf"
      },
      "execution_count": 8,
      "outputs": []
    },
    {
      "cell_type": "code",
      "source": [],
      "metadata": {
        "id": "pojvNdj8A821"
      },
      "execution_count": 8,
      "outputs": []
    }
  ]
}